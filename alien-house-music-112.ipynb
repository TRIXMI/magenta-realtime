{
 "cells": [
  {
   "cell_type": "code",
   "execution_count": 1,
   "id": "1aab3815",
   "metadata": {
    "_cell_guid": "b1076dfc-b9ad-4769-8c92-a6c4dae69d19",
    "_uuid": "8f2839f25d086af736a60e9eeb907d3b93b6e0e5",
    "execution": {
     "iopub.execute_input": "2025-07-13T05:33:41.080640Z",
     "iopub.status.busy": "2025-07-13T05:33:41.080306Z",
     "iopub.status.idle": "2025-07-13T05:33:42.484565Z",
     "shell.execute_reply": "2025-07-13T05:33:42.483694Z"
    },
    "papermill": {
     "duration": 1.408385,
     "end_time": "2025-07-13T05:33:42.486324",
     "exception": false,
     "start_time": "2025-07-13T05:33:41.077939",
     "status": "completed"
    },
    "tags": []
   },
   "outputs": [
    {
     "name": "stdout",
     "output_type": "stream",
     "text": [
      "/kaggle/input/deepseek-r1-0528/transformers/deepseek-r1-0528-qwen3-8b/1/model.safetensors.index.json\n",
      "/kaggle/input/deepseek-r1-0528/transformers/deepseek-r1-0528-qwen3-8b/1/config.json\n",
      "/kaggle/input/deepseek-r1-0528/transformers/deepseek-r1-0528-qwen3-8b/1/LICENSE\n",
      "/kaggle/input/deepseek-r1-0528/transformers/deepseek-r1-0528-qwen3-8b/1/README.md\n",
      "/kaggle/input/deepseek-r1-0528/transformers/deepseek-r1-0528-qwen3-8b/1/tokenizer.json\n",
      "/kaggle/input/deepseek-r1-0528/transformers/deepseek-r1-0528-qwen3-8b/1/tokenizer_config.json\n",
      "/kaggle/input/deepseek-r1-0528/transformers/deepseek-r1-0528-qwen3-8b/1/model-00001-of-000002.safetensors\n",
      "/kaggle/input/deepseek-r1-0528/transformers/deepseek-r1-0528-qwen3-8b/1/model-00002-of-000002.safetensors\n",
      "/kaggle/input/deepseek-r1-0528/transformers/deepseek-r1-0528-qwen3-8b/1/figures/benchmark.png\n",
      "/kaggle/input/alien-house-music-111/pytorch/default/1/code 126.txt\n",
      "/kaggle/input/alien-house-music-111/pytorch/default/1/DEVSENSE.profiler-php-vscode-1.57.17031.vsix\n",
      "/kaggle/input/alien-house-music-111/pytorch/default/1/code (2).txt\n",
      "/kaggle/input/alien-house-music-111/pytorch/default/1/code 123.py\n",
      "/kaggle/input/alien-house-music-111/pytorch/default/1/code 112.py\n",
      "/kaggle/input/alien-house-music-111/pytorch/default/1/code 131.py\n",
      "/kaggle/input/alien-house-music-111/pytorch/default/1/code 133.txt\n",
      "/kaggle/input/alien-house-music-111/pytorch/default/1/code 128.txt\n",
      "/kaggle/input/alien-house-music-111/pytorch/default/1/code 130.txt\n",
      "/kaggle/input/alien-house-music-111/pytorch/default/1/code (1).txt\n",
      "/kaggle/input/alien-house-music-111/pytorch/default/1/code 125.py\n",
      "/kaggle/input/alien-house-music-111/pytorch/default/1/code 136.py\n",
      "/kaggle/input/alien-house-music-111/pytorch/default/1/code 138.sh\n",
      "/kaggle/input/alien-house-music-111/pytorch/default/1/code 129.txt\n",
      "/kaggle/input/alien-house-music-111/pytorch/default/1/code 127.py\n",
      "/kaggle/input/alien-house-music-111/pytorch/default/1/code 132.txt\n",
      "/kaggle/input/alien-house-music-111/pytorch/default/1/code 139.py\n",
      "/kaggle/input/alien-house-music-111/pytorch/default/1/code 118.py\n",
      "/kaggle/input/alien-house-music-111/pytorch/default/1/code 114.txt\n",
      "/kaggle/input/alien-house-music-111/pytorch/default/1/code 140.py\n",
      "/kaggle/input/alien-house-music-111/pytorch/default/1/code 119.txt\n",
      "/kaggle/input/alien-house-music-111/pytorch/default/1/code 115.py\n",
      "/kaggle/input/alien-house-music-111/pytorch/default/1/Copy_of_Alien_house_music_algorithm_blueprint.ipynb\n",
      "/kaggle/input/alien-house-music-111/pytorch/default/1/code 113.py\n",
      "/kaggle/input/alien-house-music-111/pytorch/default/1/code 122.py\n",
      "/kaggle/input/alien-house-music-111/pytorch/default/1/code 121.py\n",
      "/kaggle/input/alien-house-music-111/pytorch/default/1/code 137.py\n",
      "/kaggle/input/alien-house-music-111/pytorch/default/1/code 140.sh\n",
      "/kaggle/input/alien-house-music-111/pytorch/default/1/Copy_of_another_copy_of_snippets_importing_libraries_ipynb_magenta_101.ipynb\n",
      "/kaggle/input/alien-house-music-111/pytorch/default/1/code 124.py\n",
      "/kaggle/input/alien-house-music-111/pytorch/default/1/code 120.py\n",
      "/kaggle/input/alien-house-music-111/pytorch/default/1/code 117.py\n",
      "/kaggle/input/alien-house-music-111/pytorch/default/1/code 110.py\n",
      "/kaggle/input/alien-house-music-111/pytorch/default/1/code 116.py\n",
      "/kaggle/input/alien-house-music-111/pytorch/default/1/code 135.sh\n",
      "/kaggle/input/alien-house-music-111/pytorch/default/1/Copy_of_Alien_house_music_algorithm_blueprint (1).ipynb\n",
      "/kaggle/input/alien-house-music-111/pytorch/default/1/code 134.sh\n",
      "/kaggle/input/alien-house-music-111/pytorch/default/1/alien-house-music-.-tensor-llm-gemmacpp-default-v1/code.py\n",
      "/kaggle/input/alien-house-music-111/pytorch/default/1/alien-house-music-.-tensor-llm-gemmacpp-default-v1/Another copy of Alien_House_Music_App_Design.ipynb\n",
      "/kaggle/input/alien-house-music-111/pytorch/default/1/alien-house-music-.-tensor-llm-gemmacpp-default-v1/code.txt\n",
      "/kaggle/input/alien-house-music-111/pytorch/default/1/alien-house-music-.-tensor-llm-gemmacpp-default-v1/code Python library (1).py\n",
      "/kaggle/input/alien-house-music-111/pytorch/default/1/alien-house-music-.-tensor-llm-gemmacpp-default-v1/Unit testing\n",
      "/kaggle/input/alien-house-music-111/pytorch/default/1/alien-house-music-.-tensor-llm-gemmacpp-default-v1/code (2).py\n",
      "/kaggle/input/alien-house-music-111/pytorch/default/1/alien-house-music-.-tensor-llm-gemmacpp-default-v1/code (2).txt\n",
      "/kaggle/input/alien-house-music-111/pytorch/default/1/alien-house-music-.-tensor-llm-gemmacpp-default-v1/Copy of MediaPipe Model Maker Image Classifier Demo.ipynb\n",
      "/kaggle/input/alien-house-music-111/pytorch/default/1/alien-house-music-.-tensor-llm-gemmacpp-default-v1/Copy of notebookf49118de26\n",
      "/kaggle/input/alien-house-music-111/pytorch/default/1/alien-house-music-.-tensor-llm-gemmacpp-default-v1/Another copy of notebookf49118de26\n",
      "/kaggle/input/alien-house-music-111/pytorch/default/1/alien-house-music-.-tensor-llm-gemmacpp-default-v1/Copy of earth_engine.ipynb\n",
      "/kaggle/input/alien-house-music-111/pytorch/default/1/alien-house-music-.-tensor-llm-gemmacpp-default-v1/code (1).py\n",
      "/kaggle/input/alien-house-music-111/pytorch/default/1/alien-house-music-.-tensor-llm-gemmacpp-default-v1/ML Model Evaluation Code\n",
      "/kaggle/input/alien-house-music-111/pytorch/default/1/alien-house-music-.-tensor-llm-gemmacpp-default-v1/Copy of Copy_of_notebookfcb88ba979.ipynb\n",
      "/kaggle/input/alien-house-music-111/pytorch/default/1/alien-house-music-.-tensor-llm-gemmacpp-default-v1/Copy of beginner.ipynb\n",
      "/kaggle/input/alien-house-music-111/pytorch/default/1/alien-house-music-.-tensor-llm-gemmacpp-default-v1/code flutter calling API.txt\n",
      "/kaggle/input/alien-house-music-111/pytorch/default/1/alien-house-music-.-tensor-llm-gemmacpp-default-v1/Copy of notebookfa2a062410\n",
      "/kaggle/input/alien-house-music-111/pytorch/default/1/alien-house-music-.-tensor-llm-gemmacpp-default-v1/Copy of AHM-1\n",
      "/kaggle/input/alien-house-music-111/pytorch/default/1/alien-house-music-.-tensor-llm-gemmacpp-default-v1/code (1).txt\n",
      "/kaggle/input/alien-house-music-111/pytorch/default/1/alien-house-music-.-tensor-llm-gemmacpp-default-v1/Install the Ops Agent to troubleshoot third-party applications - YouTube\n",
      "/kaggle/input/alien-house-music-111/pytorch/default/1/alien-house-music-.-tensor-llm-gemmacpp-default-v1/code flutter.py\n",
      "/kaggle/input/alien-house-music-111/pytorch/default/1/alien-house-music-.-tensor-llm-gemmacpp-default-v1/Github.code.txt\n",
      "/kaggle/input/alien-house-music-111/pytorch/default/1/alien-house-music-.-tensor-llm-gemmacpp-default-v1/code backend.py\n",
      "/kaggle/input/alien-house-music-111/pytorch/default/1/alien-house-music-.-tensor-llm-gemmacpp-default-v1/Copy of intro_function_calling.ipynb\n",
      "/kaggle/input/alien-house-music-111/pytorch/default/1/alien-house-music-.-tensor-llm-gemmacpp-default-v1/Code Optimizer\n",
      "/kaggle/input/alien-house-music-111/pytorch/default/1/alien-house-music-.-tensor-llm-gemmacpp-default-v1/Copy of Gemma3_1b_fine_tune.ipynb\n",
      "/kaggle/input/alien-house-music-111/pytorch/default/1/alien-house-music-.-tensor-llm-gemmacpp-default-v1/TWEAKING BEATS-XR. code lab code.py\n",
      "/kaggle/input/alien-house-music-111/pytorch/default/1/alien-house-music-.-tensor-llm-gemmacpp-default-v1/code (2) flutter.txt\n",
      "/kaggle/input/alien-house-music-111/pytorch/default/1/alien-house-music-.-tensor-llm-gemmacpp-default-v1/Copy of Code_Execution.ipynb - Colab\n",
      "/kaggle/input/alien-house-music-111/pytorch/default/1/alien-house-music-.-tensor-llm-gemmacpp-default-v1/AHM-1\n",
      "/kaggle/input/alien-house-music-111/pytorch/default/1/alien-house-music-.-tensor-llm-gemmacpp-default-v1/code (5) docker file.txt\n",
      "/kaggle/input/alien-house-music-111/pytorch/default/1/alien-house-music-.-tensor-llm-gemmacpp-default-v1/Untitled0.ipynb\n",
      "/kaggle/input/alien-house-music-111/pytorch/default/1/alien-house-music-.-tensor-llm-gemmacpp-default-v1/Copy of keras_tuner.ipynb\n",
      "/kaggle/input/alien-house-music-111/pytorch/default/1/alien-house-music-.-tensor-llm-gemmacpp-default-v1/Another copy of Drawing with LLMs - Getting Started with DeepSeek\n",
      "/kaggle/input/alien-house-music-111/pytorch/default/1/alien-house-music-.-tensor-llm-gemmacpp-default-v1/Function_calling.ipynb\n",
      "/kaggle/input/alien-house-music-111/pytorch/default/1/alien-house-music-.-tensor-llm-gemmacpp-default-v1/Copy of Drawing with LLMs - Getting Started with DeepSeek\n",
      "/kaggle/input/alien-house-music-111/pytorch/default/1/alien-house-music-.-tensor-llm-gemmacpp-default-v1/Copy of notebookfcb88ba979\n",
      "/kaggle/input/alien-house-music-111/pytorch/default/1/alien-house-music-.-tensor-llm-gemmacpp-default-v1/workflow code.txt\n",
      "/kaggle/input/alien-house-music-111/pytorch/default/1/alien-house-music-.-tensor-llm-gemmacpp-default-v1/Untitled1.ipynb\n",
      "/kaggle/input/alien-house-music-111/pytorch/default/1/alien-house-music-.-tensor-llm-gemmacpp-default-v1/Copy of Alien_House_Music_App_Design.ipynb\n"
     ]
    }
   ],
   "source": [
    "# This Python 3 environment comes with many helpful analytics libraries installed\n",
    "# It is defined by the kaggle/python Docker image: https://github.com/kaggle/docker-python\n",
    "# For example, here's several helpful packages to load\n",
    "\n",
    "import numpy as np # linear algebra\n",
    "import pandas as pd # data processing, CSV file I/O (e.g. pd.read_csv)\n",
    "\n",
    "# Input data files are available in the read-only \"../input/\" directory\n",
    "# For example, running this (by clicking run or pressing Shift+Enter) will list all files under the input directory\n",
    "\n",
    "import os\n",
    "for dirname, _, filenames in os.walk('/kaggle/input'):\n",
    "    for filename in filenames:\n",
    "        print(os.path.join(dirname, filename))\n",
    "\n",
    "# You can write up to 20GB to the current directory (/kaggle/working/) that gets preserved as output when you create a version using \"Save & Run All\" \n",
    "# You can also write temporary files to /kaggle/temp/, but they won't be saved outside of the current session"
   ]
  },
  {
   "cell_type": "markdown",
   "id": "d7053e37",
   "metadata": {
    "papermill": {
     "duration": 0.001209,
     "end_time": "2025-07-13T05:33:42.489270",
     "exception": false,
     "start_time": "2025-07-13T05:33:42.488061",
     "status": "completed"
    },
    "tags": []
   },
   "source": []
  }
 ],
 "metadata": {
  "kaggle": {
   "accelerator": "nvidiaTeslaT4",
   "dataSources": [
    {
     "modelId": 398736,
     "modelInstanceId": 378581,
     "sourceId": 469268,
     "sourceType": "modelInstanceVersion"
    },
    {
     "isSourceIdPinned": true,
     "modelId": 362024,
     "modelInstanceId": 340783,
     "sourceId": 417773,
     "sourceType": "modelInstanceVersion"
    }
   ],
   "dockerImageVersionId": 31090,
   "isGpuEnabled": true,
   "isInternetEnabled": true,
   "language": "python",
   "sourceType": "notebook"
  },
  "kernelspec": {
   "display_name": "Python 3",
   "language": "python",
   "name": "python3"
  },
  "language_info": {
   "codemirror_mode": {
    "name": "ipython",
    "version": 3
   },
   "file_extension": ".py",
   "mimetype": "text/x-python",
   "name": "python",
   "nbconvert_exporter": "python",
   "pygments_lexer": "ipython3",
   "version": "3.11.13"
  },
  "papermill": {
   "default_parameters": {},
   "duration": 5.796914,
   "end_time": "2025-07-13T05:33:42.807630",
   "environment_variables": {},
   "exception": null,
   "input_path": "__notebook__.ipynb",
   "output_path": "__notebook__.ipynb",
   "parameters": {},
   "start_time": "2025-07-13T05:33:37.010716",
   "version": "2.6.0"
  }
 },
 "nbformat": 4,
 "nbformat_minor": 5
}
